{
 "cells": [
  {
   "cell_type": "code",
   "execution_count": 33,
   "metadata": {},
   "outputs": [
    {
     "name": "stdout",
     "output_type": "stream",
     "text": [
      "Using TensorFlow backend\n"
     ]
    }
   ],
   "source": [
    "import autokeras as ak\n",
    "import matplotlib.pyplot as plt\n",
    "from tqdm import tqdm\n",
    "import numpy as np\n",
    "import torch\n",
    "import torch.nn as nn\n",
    "import torch.optim as optim\n",
    "import torch.utils.data as data\n",
    "import torchvision.transforms as transforms\n",
    "from torch.autograd import Variable\n",
    "from torch.autograd import Function\n",
    "from tensorflow.keras.models import load_model\n",
    "import tensorflow as tf\n",
    "import medmnist\n",
    "from medmnist import INFO, Evaluator\n",
    "import torchvision.transforms as trn\n",
    "import torchvision.transforms.functional as trn_F\n",
    "import cv2\n",
    "from sklearn.metrics import accuracy_score, f1_score"
   ]
  },
  {
   "cell_type": "code",
   "execution_count": 5,
   "metadata": {},
   "outputs": [
    {
     "name": "stdout",
     "output_type": "stream",
     "text": [
      "Downloading https://zenodo.org/records/6496656/files/pneumoniamnist.npz to C:\\Users\\chube\\.medmnist\\pneumoniamnist.npz\n"
     ]
    },
    {
     "name": "stderr",
     "output_type": "stream",
     "text": [
      "100%|███████████████████████████████████████████████████████████████████| 4170669/4170669 [00:01<00:00, 2545547.18it/s]"
     ]
    },
    {
     "name": "stdout",
     "output_type": "stream",
     "text": [
      "Using downloaded and verified file: C:\\Users\\chube\\.medmnist\\pneumoniamnist.npz\n",
      "Using downloaded and verified file: C:\\Users\\chube\\.medmnist\\pneumoniamnist.npz\n"
     ]
    },
    {
     "name": "stderr",
     "output_type": "stream",
     "text": [
      "\n"
     ]
    }
   ],
   "source": [
    "data_flag = 'pneumoniamnist'\n",
    "download = True\n",
    "\n",
    "#NUM_EPOCHS = 3\n",
    "#BATCH_SIZE = 128\n",
    "lr = 0.001\n",
    "\n",
    "info = INFO[data_flag]\n",
    "task = info['task']\n",
    "n_channels = info['n_channels']\n",
    "n_classes = len(info['label'])\n",
    "\n",
    "DataClass = getattr(medmnist, info['python_class'])\n",
    "\n",
    "# preprocessing\n",
    "data_transform = transforms.Compose([\n",
    "    transforms.ToTensor(),\n",
    "    transforms.Normalize(mean=[.5], std=[.5])\n",
    "])\n",
    "\n",
    "# load the data\n",
    "train_dataset = DataClass(split='train', transform=data_transform, download=download)\n",
    "validation_dataset = DataClass(split = 'val', transform = data_transform, download = download)\n",
    "test_dataset = DataClass(split='test', transform=data_transform, download=download)"
   ]
  },
  {
   "cell_type": "code",
   "execution_count": 6,
   "metadata": {},
   "outputs": [],
   "source": [
    "x_train = train_dataset.imgs\n",
    "x_val = validation_dataset.imgs\n",
    "x_test = test_dataset.imgs"
   ]
  },
  {
   "cell_type": "code",
   "execution_count": 7,
   "metadata": {},
   "outputs": [],
   "source": [
    "y_train = train_dataset.labels.reshape((len(train_dataset.labels),))\n",
    "y_val   = validation_dataset.labels.reshape((len(validation_dataset.labels),))\n",
    "y_test  = test_dataset.labels.reshape((len(test_dataset.labels),))"
   ]
  },
  {
   "cell_type": "code",
   "execution_count": 8,
   "metadata": {},
   "outputs": [],
   "source": [
    "proportion = [0.2, 0.4, 0.6, 0.8, 1]\n",
    "num_train  = len(y_train)\n",
    "num_test   = len(y_test)\n",
    "num_iter   = 1000\n",
    "perturbs   = ['noise', 'contrast', 'rotate', 'tilt', 'blur']"
   ]
  },
  {
   "cell_type": "code",
   "execution_count": 24,
   "metadata": {},
   "outputs": [],
   "source": [
    "def rotate(img, deg):\n",
    "    img = Image.fromarray(img)\n",
    "    if img.mode != 'L':\n",
    "        img = img.convert('L')\n",
    "    z = trn.CenterCrop(28)(trn_F.affine(img, angle=deg-15, translate=(0, 0), scale=1., shear=0))\n",
    "    return z"
   ]
  },
  {
   "cell_type": "code",
   "execution_count": 10,
   "metadata": {},
   "outputs": [],
   "source": [
    "def disk(radius, alias_blur=0.1, dtype=np.float32):\n",
    "    if radius <= 8:\n",
    "        L = np.arange(-8, 8 + 1)\n",
    "        ksize = (3, 3)\n",
    "    else:\n",
    "        L = np.arange(-radius, radius + 1)\n",
    "        ksize = (5, 5)\n",
    "    X, Y = np.meshgrid(L, L)\n",
    "    aliased_disk = np.array((X ** 2 + Y ** 2) <= radius ** 2, dtype=dtype)\n",
    "    aliased_disk /= np.sum(aliased_disk)\n",
    "\n",
    "    # supersample disk to antialias\n",
    "    return cv2.GaussianBlur(aliased_disk, ksize=ksize, sigmaX=alias_blur)"
   ]
  },
  {
   "cell_type": "code",
   "execution_count": 11,
   "metadata": {},
   "outputs": [],
   "source": [
    "def tilt(img, deg):\n",
    "    x = np.array(img)\n",
    "    h, w = x.shape[0:2]\n",
    "    phi, theta = np.deg2rad(deg-15), np.deg2rad(deg-15)\n",
    "    f = np.sqrt(w**2+h**2)\n",
    "    P1 = np.array([[1,0,-w/2], [0,1,-h/2], [0,0,1], [0,0,1]])\n",
    "    RX = np.array([[1,0,0,0], [0, np.cos(theta), -np.sin(theta), 0],\n",
    "                  [0, np.sin(theta), np.cos(theta), 0], [0, 0, 0, 1]])\n",
    "    RY = np.array([[np.cos(phi), 0, -np.sin(phi), 0], [0,1,0,0],\n",
    "                  [np.sin(phi), 0, np.cos(phi), 0], [0, 0, 0, 1]])\n",
    "    T = np.array([[1, 0, 0, 0], [0, 1, 0, 0],\n",
    "                   [0, 0, 1, f], [0, 0, 0, 1]])\n",
    "    P2 = np.array([[f, 0, w / 2, 0], [0, f, h / 2, 0], [0, 0, 1, 0]])\n",
    "    mat = P2 @ T @ RX @ RY @ P1\n",
    "    z = trn.CenterCrop(28)(Image.fromarray(cv2.warpPerspective(x, mat, (w, h))))\n",
    "    return z"
   ]
  },
  {
   "cell_type": "code",
   "execution_count": 12,
   "metadata": {},
   "outputs": [],
   "source": [
    "def contrast(img, factor, dim = 2):\n",
    "    \n",
    "    if dim == 3:\n",
    "        num = img.shape[0]\n",
    "        temp = np.zeros((num,img.shape[1], img.shape[2]))\n",
    "        for i in range(num):\n",
    "            tempi = img[i,:,:]\n",
    "            im = Image.fromarray(tempi)\n",
    "            if im.mode != 'L':\n",
    "                im = im.convert('L')\n",
    "            enhancer = ImageEnhance.Contrast(im)\n",
    "            im_output = enhancer.enhance(factor)\n",
    "            im_array = np.asarray(im_output)\n",
    "            temp[i,:,:] = im_array\n",
    "        return temp\n",
    "    else:\n",
    "        if type(img) == np.ndarray:\n",
    "            im = Image.fromarray(img)\n",
    "        else:\n",
    "            im = img\n",
    "        if im.mode != 'L':\n",
    "            im = im.convert('L')\n",
    "        enhancer = ImageEnhance.Contrast(im)\n",
    "        im_output = enhancer.enhance(factor)\n",
    "        im_array = np.asarray(im_output)\n",
    "        return im_array"
   ]
  },
  {
   "cell_type": "code",
   "execution_count": 154,
   "metadata": {},
   "outputs": [
    {
     "name": "stderr",
     "output_type": "stream",
     "text": [
      "C:\\Users\\Egg\\anaconda3\\lib\\site-packages\\torchvision\\transforms\\functional.py:1135: UserWarning: The parameter 'resample' is deprecated since 0.12 and will be removed in 0.14. Please use 'interpolation' instead.\n",
      "  warnings.warn(\n"
     ]
    },
    {
     "data": {
      "image/png": "[encoded data removed]",
      "text/plain": [
       "<Figure size 144x144 with 1 Axes>"
      ]
     },
     "metadata": {
      "needs_background": "light"
     },
     "output_type": "display_data"
    }
   ],
   "source": [
    "image = contrast(x_test[0],3)\n",
    "plot(rotate(image, 45))"
   ]
  },
  {
   "cell_type": "code",
   "execution_count": 13,
   "metadata": {},
   "outputs": [],
   "source": [
    "def defocus_blur(x, severity=1):\n",
    "    c = [(3, 0.1), (4, 0.5), (6, 0.5), (8, 0.5), (10, 0.5)][severity - 1]\n",
    "\n",
    "    x = np.array(x) / 255.\n",
    "    kernel = disk(radius=c[0], alias_blur=c[1])\n",
    "\n",
    "    channels = []\n",
    "    channels.append(cv2.filter2D(x[:, :], -1, kernel))\n",
    "    channels = np.array(channels).transpose((1, 2, 0))  # 3x224x224 -> 224x224x3\n",
    "    output = np.clip(channels, 0, 1) * 255\n",
    "    output = output.reshape((28,28))\n",
    "    return output"
   ]
  },
  {
   "cell_type": "code",
   "execution_count": null,
   "metadata": {},
   "outputs": [],
   "source": []
  },
  {
   "cell_type": "code",
   "execution_count": 14,
   "metadata": {},
   "outputs": [
    {
     "data": {
      "text/plain": [
       "(624, 28, 28)"
      ]
     },
     "execution_count": 14,
     "metadata": {},
     "output_type": "execute_result"
    }
   ],
   "source": [
    "x_test.shape"
   ]
  },
  {
   "cell_type": "code",
   "execution_count": 15,
   "metadata": {},
   "outputs": [],
   "source": [
    "def gaussian_noise(x, c):\n",
    "    #c =[0.02, 0.04, 0.06, 0.08, 0.1][severity - 1]\n",
    "    \n",
    "    x = np.array(x)/255\n",
    "    np.random.seed(2)\n",
    "    x = np.clip(x+ np.random.normal(size = x.shape, scale = c), 0, 1 * 255)\n",
    "    return x.astype(np.float32)"
   ]
  },
  {
   "cell_type": "code",
   "execution_count": 16,
   "metadata": {},
   "outputs": [],
   "source": [
    "def plot(img):\n",
    "    plt.figure(figsize = (2,2))\n",
    "    plt.imshow(img, cmap = \"gray\")\n",
    "    plt.show()"
   ]
  },
  {
   "cell_type": "code",
   "execution_count": 17,
   "metadata": {},
   "outputs": [
    {
     "data": {
      "image/png": "[encoded data removed]",
      "text/plain": [
       "<Figure size 200x200 with 1 Axes>"
      ]
     },
     "metadata": {},
     "output_type": "display_data"
    }
   ],
   "source": [
    "from PIL import Image, ImageEnhance\n",
    "img = x_test[1]\n",
    "im = Image.fromarray(img)\n",
    "enhancer = ImageEnhance.Contrast(im)\n",
    "\n",
    "factor = 3 #gives original image\n",
    "im_output = enhancer.enhance(factor)\n",
    "plt.figure(figsize = (2,2))\n",
    "plt.imshow(im_output, cmap = \"gray\")\n",
    "plt.show()\n",
    "#im_output.save('original-image.png')"
   ]
  },
  {
   "cell_type": "code",
   "execution_count": 18,
   "metadata": {},
   "outputs": [
    {
     "data": {
      "image/png": "[encoded data removed]",
      "text/plain": [
       "<Figure size 200x200 with 1 Axes>"
      ]
     },
     "metadata": {},
     "output_type": "display_data"
    }
   ],
   "source": [
    "plot(img)"
   ]
  },
  {
   "cell_type": "code",
   "execution_count": 19,
   "metadata": {},
   "outputs": [
    {
     "data": {
      "image/png": "[encoded data removed]",
      "text/plain": [
       "<Figure size 200x200 with 1 Axes>"
      ]
     },
     "metadata": {},
     "output_type": "display_data"
    }
   ],
   "source": [
    "plot(gaussian_noise(img, 0.08))"
   ]
  },
  {
   "cell_type": "code",
   "execution_count": 20,
   "metadata": {},
   "outputs": [
    {
     "data": {
      "image/png": "[encoded data removed]",
      "text/plain": [
       "<Figure size 200x200 with 1 Axes>"
      ]
     },
     "metadata": {},
     "output_type": "display_data"
    }
   ],
   "source": [
    "plot(contrast(img, 3))"
   ]
  },
  {
   "cell_type": "code",
   "execution_count": 25,
   "metadata": {},
   "outputs": [
    {
     "data": {
      "image/png": "[encoded data removed]",
      "text/plain": [
       "<Figure size 200x200 with 1 Axes>"
      ]
     },
     "metadata": {},
     "output_type": "display_data"
    }
   ],
   "source": [
    "plot(rotate(img, deg = 45))"
   ]
  },
  {
   "cell_type": "code",
   "execution_count": 22,
   "metadata": {},
   "outputs": [
    {
     "data": {
      "image/png": "[encoded data removed]",
      "text/plain": [
       "<Figure size 200x200 with 1 Axes>"
      ]
     },
     "metadata": {},
     "output_type": "display_data"
    }
   ],
   "source": [
    "plot(tilt(img, deg = 45))"
   ]
  },
  {
   "cell_type": "code",
   "execution_count": 23,
   "metadata": {},
   "outputs": [
    {
     "data": {
      "image/png": "[encoded data removed]",
      "text/plain": [
       "<Figure size 200x200 with 1 Axes>"
      ]
     },
     "metadata": {},
     "output_type": "display_data"
    }
   ],
   "source": [
    "plot(defocus_blur(img))"
   ]
  },
  {
   "cell_type": "code",
   "execution_count": 26,
   "metadata": {},
   "outputs": [
    {
     "data": {
      "text/plain": [
       "4708"
      ]
     },
     "execution_count": 26,
     "metadata": {},
     "output_type": "execute_result"
    }
   ],
   "source": [
    "num_perturb = 471\n",
    "x_train.shape[0]"
   ]
  },
  {
   "cell_type": "code",
   "execution_count": 27,
   "metadata": {},
   "outputs": [],
   "source": [
    "import itertools\n",
    "from pprint import pprint\n",
    "import random\n",
    "\n",
    "def random_generator(seq, n, m):\n",
    "    rand_seq = seq[:]  # make a copy to avoid changing input argument\n",
    "    random.shuffle(rand_seq)\n",
    "    lists = []\n",
    "    limit = n-1\n",
    "    for i,group in enumerate(zip(*([iter(rand_seq)]*m))):\n",
    "        lists.append(group)\n",
    "        if i == limit: break  # have enough\n",
    "    return lists\n",
    "\n",
    "words = np.arange(x_train.shape[0])\n",
    "perturb_idxs = random_generator(words, 5, 471)"
   ]
  },
  {
   "cell_type": "code",
   "execution_count": 29,
   "metadata": {},
   "outputs": [],
   "source": [
    "def perturb_data(samples, idx_corrupt, variant):\n",
    "    \n",
    "    num_total = samples.shape[0]\n",
    "    temp_set = np.zeros((samples.shape))\n",
    "    img_shape = samples[0].shape\n",
    "    \n",
    "    if variant == 'noise':\n",
    "        for k in range(num_total):\n",
    "            img = samples[k]\n",
    "            if k in idx_corrupt:\n",
    "                temp = gaussian_noise(img, 0.08)\n",
    "                temp_set[k] = temp*255\n",
    "            else:\n",
    "                temp = np.copy(img)\n",
    "                temp_set[k] = temp\n",
    "                \n",
    "    if variant == 'contrast':\n",
    "        for k in range(num_total):\n",
    "            img = samples[k]\n",
    "            if k in idx_corrupt:\n",
    "                temp = contrast(img, 3)\n",
    "                temp_set[k] = temp\n",
    "            else:\n",
    "                temp = np.copy(img)\n",
    "                temp_set[k] = temp\n",
    "    \n",
    "    if variant == 'tilt':\n",
    "        for k in range(num_total):\n",
    "            img = samples[k]\n",
    "            np.random.seed(k**2)\n",
    "            angle = np.random.randint(0, high = 90)\n",
    "            \n",
    "            if k in idx_corrupt:\n",
    "                temp = tilt(img, angle)\n",
    "                temp_set[k] = temp\n",
    "            else:\n",
    "                temp = np.copy(img)\n",
    "                temp_set[k] = temp\n",
    "    \n",
    "    if variant == 'blur':\n",
    "        for k in range(num_total):\n",
    "            img = samples[k]\n",
    "            if k in idx_corrupt:\n",
    "                temp = defocus_blur(img, severity = 1).reshape((28,28))\n",
    "                temp_set[k] = temp\n",
    "            else:\n",
    "                temp = np.copy(img)\n",
    "                temp_set[k] = temp\n",
    "    \n",
    "    if variant == 'rotate':\n",
    "        for k in range(num_total):\n",
    "            img = samples[k]\n",
    "            np.random.seed(k)\n",
    "            angle = np.random.randint(-90, high = 90)\n",
    "            if k in idx_corrupt:\n",
    "                temp        = rotate(img, angle)\n",
    "                temp_set[k] = temp\n",
    "            else:\n",
    "                temp = np.copy(img)\n",
    "                temp_set[k] = temp\n",
    "\n",
    "    return temp_set"
   ]
  },
  {
   "cell_type": "code",
   "execution_count": null,
   "metadata": {},
   "outputs": [],
   "source": [
    "# all_perturb_idxs = np.concatenate((perturb_idxs[0], perturb_idxs[1], perturb_idxs[2], perturb_idxs[3], perturb_idxs[4]))\n",
    "# print(all_perturb_idxs.shape)\n",
    "\n",
    "# all_idxs = np.arange(x_train.shape[0])\n",
    "# no_noise_idxs = [item for item in all_idxs if item not in all_perturb_idxs]\n",
    "# no_noise_idxs = np.array(no_noise_idxs)\n",
    "# print(no_noise_idxs.shape[0] + all_perturb_idxs.shape[0] == all_idxs.shape[0])\n",
    "\n",
    "# clean_imgs = x_train[no_noise_idxs,:,:]\n",
    "# print(clean_imgs.shape)\n",
    "\n",
    "# new_train = []\n",
    "# for i in range(len(perturbs)):\n",
    "#     new_train.append(perturb_data(samples = x_train[perturb_idxs[i],:,:], idx_corrupt = np.arange(x_train[perturb_idxs[0],:,:].shape[0]), variant = perturbs[i]))\n",
    "\n",
    "# new_y = []\n",
    "# new_y.append(y_train[list(perturb_idxs[0])])\n",
    "# new_y.append(y_train[list(perturb_idxs[1])])\n",
    "# new_y.append(y_train[list(perturb_idxs[2])])\n",
    "# new_y.append(y_train[list(perturb_idxs[3])])\n",
    "# new_y.append(y_train[list(perturb_idxs[4])])\n",
    "# new_y.append(y_train[no_noise_idxs])\n",
    "# y_new = np.concatenate((new_y[0], new_y[1], new_y[2], new_y[3], new_y[4], new_y[5]))\n",
    "# print(y_new.shape)\n",
    "\n",
    "# new_data = np.concatenate((new_train[0], new_train[1], new_train[2], new_train[3], new_train[4], clean_imgs))\n",
    "# new_data.shape\n",
    "\n",
    "# created_model_list = []\n",
    "# pmodel_list = []\n",
    "# for i in range(len(omodel_list)):\n",
    "#     model_number = i\n",
    "#     OG_model = load_model(\"MODEL_\"+str(model_number)+\"_XRAY\", custom_objects = ak.CUSTOM_OBJECTS)\n",
    "            \n",
    "#     weights = OG_model.get_weights()\n",
    "#     np.random.seed(12345)\n",
    "#     weights = [np.random.permutation(w.flat).reshape(w.shape) for w in weights]\n",
    "#     OG_model.set_weights(weights)\n",
    "#     OG_model.fit(new_data, y_new, epochs = 5, batch_size = 8)\n",
    "#     try:\n",
    "#         OG_model.save(\"MODEL_\"+str(model_number)+\"_XRAY_\"+\"MIX\", save_format = \"tf\")\n",
    "#     except Exception:\n",
    "#         OG_model.save(\"MODEL_\"+str(model_number)+\"_XRAY_\"+\"MIX.h5\")\n",
    "        \n",
    "#     pmodel_list.append(OG_model)"
   ]
  },
  {
   "cell_type": "code",
   "execution_count": null,
   "metadata": {},
   "outputs": [],
   "source": [
    "num_models = 10\n",
    "omodel_list = []\n",
    "pmodel_list = []\n",
    "for i in tqdm(range(num_models)):\n",
    "    omodel_list.append(load_model(\"MODEL_\"+str(i)+\"_XRAY\", custom_objects = ak.CUSTOM_OBJECTS, compile = False))\n",
    "    pmodel_list.append(load_model(\"MODEL_\"+str(i)+\"_XRAY_MIX\", custom_objects = ak.CUSTOM_OBJECTS, compile = False))"
   ]
  },
  {
   "cell_type": "code",
   "execution_count": 42,
   "metadata": {},
   "outputs": [],
   "source": [
    "import warnings\n",
    "warnings.filterwarnings(\"ignore\")"
   ]
  },
  {
   "cell_type": "code",
   "execution_count": 44,
   "metadata": {},
   "outputs": [
    {
     "name": "stderr",
     "output_type": "stream",
     "text": [
      "100%|████████████████████████████████████████████████████████████████████████████████| 200/200 [04:24<00:00,  1.32s/it]\n",
      "100%|████████████████████████████████████████████████████████████████████████████████| 200/200 [03:27<00:00,  1.04s/it]\n",
      "100%|████████████████████████████████████████████████████████████████████████████████| 200/200 [03:07<00:00,  1.07it/s]\n",
      "100%|████████████████████████████████████████████████████████████████████████████████| 200/200 [03:02<00:00,  1.09it/s]\n",
      "100%|████████████████████████████████████████████████████████████████████████████████| 200/200 [03:45<00:00,  1.13s/it]\n",
      "100%|████████████████████████████████████████████████████████████████████████████████| 200/200 [03:38<00:00,  1.09s/it]\n",
      "100%|████████████████████████████████████████████████████████████████████████████████| 200/200 [03:48<00:00,  1.14s/it]\n",
      "100%|████████████████████████████████████████████████████████████████████████████████| 200/200 [06:09<00:00,  1.85s/it]\n",
      "100%|████████████████████████████████████████████████████████████████████████████████| 200/200 [04:20<00:00,  1.30s/it]\n",
      "100%|████████████████████████████████████████████████████████████████████████████████| 200/200 [04:23<00:00,  1.32s/it]\n"
     ]
    }
   ],
   "source": [
    "num_iter = 200\n",
    "pert_means = np.zeros((len(pmodel_list),))\n",
    "pert_var = np.zeros((len(pmodel_list),))\n",
    "cont_means = np.zeros((len(pmodel_list),))\n",
    "cont_var = np.zeros((len(pmodel_list),))\n",
    "for i in range(len(pmodel_list)):\n",
    "    current_model = pmodel_list[i]\n",
    "    unpert_model  = omodel_list[i]\n",
    "    temp_pert = np.zeros((num_iter,))\n",
    "    temp_cont = np.zeros((num_iter,))\n",
    "    for j in tqdm(range(num_iter)):\n",
    "        np.random.seed(j)\n",
    "        seeds = np.random.randint(low = 0, high = 999999, size = 5)\n",
    "        np.random.seed(seeds[0])\n",
    "        coin_noise = np.random.randint(low = 0, high = 2, size = x_test.shape[0])\n",
    "        np.random.seed(seeds[1])\n",
    "        coin_contrast = np.random.randint(low = 0, high = 2, size = x_test.shape[0])\n",
    "        np.random.seed(seeds[2])\n",
    "        coin_rotation = np.random.randint(low = 0, high = 2, size = x_test.shape[0])\n",
    "        np.random.seed(seeds[3])\n",
    "        coin_tilt  = np.random.randint(low = 0, high = 2, size = x_test.shape[0])\n",
    "        np.random.seed(seeds[4])\n",
    "        coin_blur  = np.random.randint(low = 0, high = 2, size = x_test.shape[0])\n",
    "    \n",
    "        idx_noise = np.where(coin_noise == 1)[0]\n",
    "        idx_contrast = np.where(coin_contrast == 1)[0]\n",
    "        idx_rotation = np.where(coin_rotation == 1)[0]\n",
    "        idx_tilt  = np.where(coin_tilt == 1)[0]\n",
    "        idx_blur  = np.where(coin_blur == 1)[0]\n",
    "    \n",
    "        temp_test_set_n = perturb_data(samples = x_test, idx_corrupt = idx_noise, variant = 'noise')\n",
    "        temp_test_set_c = perturb_data(samples = temp_test_set_n, idx_corrupt = idx_contrast, variant = 'contrast')\n",
    "        temp_test_set_r = perturb_data(samples = temp_test_set_c, idx_corrupt = idx_rotation, variant = 'rotate')\n",
    "        temp_test_set_t = perturb_data(samples = temp_test_set_r, idx_corrupt = idx_tilt, variant = 'tilt') \n",
    "        temp_test_set   = perturb_data(samples = temp_test_set_t, idx_corrupt = idx_blur, variant = 'blur')\n",
    "        performance = current_model.predict(temp_test_set, verbose = 0).round()\n",
    "        control     = unpert_model.predict(temp_test_set, verbose = 0).round()\n",
    "    \n",
    "        err_test = 1-accuracy_score(y_test, performance)\n",
    "        err_cont = 1-accuracy_score(y_test, control)\n",
    "        \n",
    "        temp_pert[j] = err_test\n",
    "        temp_cont[j] = err_cont\n",
    "        \n",
    "    pert_means[i] = np.mean(temp_pert)\n",
    "    pert_var[i]   = np.std(temp_pert)\n",
    "    cont_means[i] = np.mean(temp_cont)\n",
    "    cont_var[i]   = np.std(temp_cont)\n",
    "    "
   ]
  },
  {
   "cell_type": "code",
   "execution_count": 48,
   "metadata": {},
   "outputs": [],
   "source": [
    "import pandas as pd\n",
    "pert_df = pd.DataFrame(pert_means)\n",
    "pert_df.to_csv('pert_df_xray.csv')\n",
    "cont_df = pd.DataFrame(cont_means)\n",
    "cont_df.to_csv('cont_df_xray.csv')"
   ]
  },
  {
   "cell_type": "code",
   "execution_count": 51,
   "metadata": {},
   "outputs": [
    {
     "data": {
      "text/plain": [
       "Text(0, 0.5, 'Error Rate (1-Accuracy)')"
      ]
     },
     "execution_count": 51,
     "metadata": {},
     "output_type": "execute_result"
    },
    {
     "data": {
      "image/png": "[encoded data removed]",
      "text/plain": [
       "<Figure size 640x480 with 1 Axes>"
      ]
     },
     "metadata": {},
     "output_type": "display_data"
    }
   ],
   "source": [
    "import matplotlib.pyplot as plt\n",
    "x = np.arange(10)\n",
    "y1 = pert_means\n",
    "y2 = cont_means\n",
    "width = 0.40\n",
    "fig = plt.figure()\n",
    "ax = plt.subplot(111)\n",
    "# plot data in grouped manner of bar type\n",
    "ax.bar(x-0.2, y1, width, label = 'Perturbed Classifier')\n",
    "ax.bar(x+0.2, y2, width, label = 'Unperturbed Classifier')\n",
    "box = ax.get_position()\n",
    "ax.set_position([box.x0, box.y0, box.width * 0.8, box.height])\n",
    "\n",
    "# Put a legend to the right of the current axis\n",
    "ax.legend(loc='center left', bbox_to_anchor=(1, 0.5))\n",
    "plt.xlabel('Classifier Number')\n",
    "plt.ylabel('Error Rate (1-Accuracy)')"
   ]
  },
  {
   "cell_type": "code",
   "execution_count": 52,
   "metadata": {},
   "outputs": [
    {
     "data": {
      "text/plain": [
       "Text(0, 0.5, 'Error Rate (1-Accuracy)')"
      ]
     },
     "execution_count": 52,
     "metadata": {},
     "output_type": "execute_result"
    },
    {
     "data": {
      "image/png": "[encoded data removed]",
      "text/plain": [
       "<Figure size 640x480 with 1 Axes>"
      ]
     },
     "metadata": {},
     "output_type": "display_data"
    }
   ],
   "source": [
    "mean = np.zeros((10,))\n",
    "mean2 = np.zeros((10,))\n",
    "for i in range(10):\n",
    "    df = pd.read_csv('df2_pert'+str(i)+'.csv')\n",
    "    df2 = pd.read_csv('df2_cont'+str(i)+'.csv')\n",
    "    mean[i] = np.mean(df.iloc[:,1].values)\n",
    "    mean2[i] = np.mean(df2.iloc[:,1].values)\n",
    "\n",
    "x = np.arange(10)\n",
    "y1_1 = mean\n",
    "y2_1 = mean2\n",
    "width = 0.40\n",
    "fig = plt.figure()\n",
    "ax = plt.subplot(111)\n",
    "# plot data in grouped manner of bar type\n",
    "ax.bar(x-0.2, y1_1, width, label = 'Perturbed Classifier')\n",
    "ax.bar(x+0.2, y2_1, width, label = 'Unperturbed Classifier')\n",
    "box = ax.get_position()\n",
    "ax.set_position([box.x0, box.y0, box.width * 0.8, box.height])\n",
    "\n",
    "# Put a legend to the right of the current axis\n",
    "ax.legend(loc='center left', bbox_to_anchor=(1, 0.5))\n",
    "plt.xlabel('Classifier Number')\n",
    "plt.ylabel('Error Rate (1-Accuracy)')"
   ]
  },
  {
   "cell_type": "code",
   "execution_count": 64,
   "metadata": {},
   "outputs": [
    {
     "data": {
      "image/png": "[encoded data removed]",
      "text/plain": [
       "<Figure size 800x400 with 2 Axes>"
      ]
     },
     "metadata": {},
     "output_type": "display_data"
    }
   ],
   "source": [
    "perturbs_capital = ['Noise', 'Contrast', 'Rotate', 'Tilt', 'Blur']\n",
    "fig= plt.figure(figsize = (8,4))\n",
    "gs = fig.add_gridspec(1,2)\n",
    "axs = [fig.add_subplot(gs[i]) for i in range(2)]\n",
    "letters = [\"A\",\"B\"]\n",
    "\n",
    "fig.canvas.draw()\n",
    "\n",
    "fig.text(0.5, 0, 'Classifier Number', ha='center', va='center')\n",
    "fig.text(-0.03, 0.5, 'Error Rate (% Incorrectly Classified)', va = 'center', rotation = 'vertical')\n",
    "fig.tight_layout()\n",
    "\n",
    "for ax, label in zip(axs, letters):\n",
    "    bbox = ax.get_tightbbox(fig.canvas.get_renderer())\n",
    "    fig.text(bbox.x0+30, bbox.y1+30, label, fontsize = 12, va = \"top\", ha = \"left\", fontweight = \"bold\", transform = None)\n",
    "\n",
    "axs[0].bar(x-0.2,y1, width, label = 'Perturbed Classifier')\n",
    "axs[0].bar(x+0.2,y2, width, label = 'Unperturbed Classifier')\n",
    "axs[1].bar(x-0.2, y1_1, width, label = 'Perturbed Classifier')\n",
    "axs[1].bar(x+0.2, y2_1, width, label = 'Unperturbed Classifier')\n",
    "\n",
    "\n",
    "#fig.supylabel('Error Rate (% Incorrectly Classified)')\n",
    "#fig.legend(handles, labels, loc=(0.70,0.25))\n",
    "fig.savefig('Followup.png', bbox_inches = 'tight')\n",
    "#fig.suptitle('Comparison of Unperturbed Classifier and 20% Perturbed Classifier Performance by Perturbation')"
   ]
  },
  {
   "cell_type": "code",
   "execution_count": null,
   "metadata": {},
   "outputs": [],
   "source": []
  }
 ],
 "metadata": {
  "kernelspec": {
   "display_name": "Python 3 (ipykernel)",
   "language": "python",
   "name": "python3"
  },
  "language_info": {
   "codemirror_mode": {
    "name": "ipython",
    "version": 3
   },
   "file_extension": ".py",
   "mimetype": "text/x-python",
   "name": "python",
   "nbconvert_exporter": "python",
   "pygments_lexer": "ipython3",
   "version": "3.9.13"
  }
 },
 "nbformat": 4,
 "nbformat_minor": 4
}
